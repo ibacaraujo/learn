{
 "cells": [
  {
   "cell_type": "markdown",
   "metadata": {
    "_cell_guid": "e81ee64d-e474-4662-9036-ce23df615199",
    "_uuid": "b6269c0e8f417f82daf093dda8fa0da6d2c57d86",
    "deletable": true,
    "editable": true
   },
   "source": [
    "# Introduction\n",
    "**This will be your workspace for Kaggle's Machine Learning education track.**\n",
    "\n",
    "You will build and continually improve a model to predict housing prices as you work through each tutorial.  Fork this notebook and write your code in it.\n",
    "\n",
    "The data from the tutorial, the Melbourne data, is not available in this workspace.  You will need to translate the concepts to work with the data in this notebook, the Iowa data.\n",
    "\n",
    "Come to the [Learn Discussion](https://www.kaggle.com/learn-forum) forum for any questions or comments. \n",
    "\n",
    "# Write Your Code Below\n",
    "\n"
   ]
  },
  {
   "cell_type": "code",
   "execution_count": 1,
   "metadata": {
    "_cell_guid": "86b26423-563a-4fa1-a595-89e25ff93089",
    "_uuid": "1c728098629e1301643443b1341556a15c089b2b",
    "collapsed": false,
    "deletable": true,
    "editable": true
   },
   "outputs": [
    {
     "name": "stdout",
     "output_type": "stream",
     "text": [
      "hello world\n"
     ]
    }
   ],
   "source": [
    "import pandas as pd\n",
    "\n",
    "main_file_path = '../input/train.csv'\n",
    "data = pd.read_csv(main_file_path)\n",
    "print('hello world')"
   ]
  },
  {
   "cell_type": "code",
   "execution_count": 2,
   "metadata": {
    "_cell_guid": "bbf145dd-de21-45f3-b4d4-66c773a2c7d1",
    "_uuid": "f46d055482d1040233c9861c7e1dada2e89c91be",
    "collapsed": false,
    "deletable": true,
    "editable": true
   },
   "outputs": [
    {
     "name": "stdout",
     "output_type": "stream",
     "text": [
      "                Id   MSSubClass  LotFrontage        LotArea  OverallQual  \\\n",
      "count  1460.000000  1460.000000  1201.000000    1460.000000  1460.000000   \n",
      "mean    730.500000    56.897260    70.049958   10516.828082     6.099315   \n",
      "std     421.610009    42.300571    24.284752    9981.264932     1.382997   \n",
      "min       1.000000    20.000000    21.000000    1300.000000     1.000000   \n",
      "25%     365.750000    20.000000    59.000000    7553.500000     5.000000   \n",
      "50%     730.500000    50.000000    69.000000    9478.500000     6.000000   \n",
      "75%    1095.250000    70.000000    80.000000   11601.500000     7.000000   \n",
      "max    1460.000000   190.000000   313.000000  215245.000000    10.000000   \n",
      "\n",
      "       OverallCond    YearBuilt  YearRemodAdd   MasVnrArea   BsmtFinSF1  \\\n",
      "count  1460.000000  1460.000000   1460.000000  1452.000000  1460.000000   \n",
      "mean      5.575342  1971.267808   1984.865753   103.685262   443.639726   \n",
      "std       1.112799    30.202904     20.645407   181.066207   456.098091   \n",
      "min       1.000000  1872.000000   1950.000000     0.000000     0.000000   \n",
      "25%       5.000000  1954.000000   1967.000000     0.000000     0.000000   \n",
      "50%       5.000000  1973.000000   1994.000000     0.000000   383.500000   \n",
      "75%       6.000000  2000.000000   2004.000000   166.000000   712.250000   \n",
      "max       9.000000  2010.000000   2010.000000  1600.000000  5644.000000   \n",
      "\n",
      "           ...         WoodDeckSF  OpenPorchSF  EnclosedPorch    3SsnPorch  \\\n",
      "count      ...        1460.000000  1460.000000    1460.000000  1460.000000   \n",
      "mean       ...          94.244521    46.660274      21.954110     3.409589   \n",
      "std        ...         125.338794    66.256028      61.119149    29.317331   \n",
      "min        ...           0.000000     0.000000       0.000000     0.000000   \n",
      "25%        ...           0.000000     0.000000       0.000000     0.000000   \n",
      "50%        ...           0.000000    25.000000       0.000000     0.000000   \n",
      "75%        ...         168.000000    68.000000       0.000000     0.000000   \n",
      "max        ...         857.000000   547.000000     552.000000   508.000000   \n",
      "\n",
      "       ScreenPorch     PoolArea       MiscVal       MoSold       YrSold  \\\n",
      "count  1460.000000  1460.000000   1460.000000  1460.000000  1460.000000   \n",
      "mean     15.060959     2.758904     43.489041     6.321918  2007.815753   \n",
      "std      55.757415    40.177307    496.123024     2.703626     1.328095   \n",
      "min       0.000000     0.000000      0.000000     1.000000  2006.000000   \n",
      "25%       0.000000     0.000000      0.000000     5.000000  2007.000000   \n",
      "50%       0.000000     0.000000      0.000000     6.000000  2008.000000   \n",
      "75%       0.000000     0.000000      0.000000     8.000000  2009.000000   \n",
      "max     480.000000   738.000000  15500.000000    12.000000  2010.000000   \n",
      "\n",
      "           SalePrice  \n",
      "count    1460.000000  \n",
      "mean   180921.195890  \n",
      "std     79442.502883  \n",
      "min     34900.000000  \n",
      "25%    129975.000000  \n",
      "50%    163000.000000  \n",
      "75%    214000.000000  \n",
      "max    755000.000000  \n",
      "\n",
      "[8 rows x 38 columns]\n"
     ]
    }
   ],
   "source": [
    "print(data.describe())"
   ]
  },
  {
   "cell_type": "code",
   "execution_count": 3,
   "metadata": {
    "_cell_guid": "33dd659c-fa4f-476f-9afe-4481d6075614",
    "_uuid": "6f2bdd908fa97112d9a405ac2d7fe81e5a4c57be",
    "collapsed": false,
    "deletable": true,
    "editable": true
   },
   "outputs": [
    {
     "name": "stdout",
     "output_type": "stream",
     "text": [
      "Index(['Id', 'MSSubClass', 'MSZoning', 'LotFrontage', 'LotArea', 'Street',\n",
      "       'Alley', 'LotShape', 'LandContour', 'Utilities', 'LotConfig',\n",
      "       'LandSlope', 'Neighborhood', 'Condition1', 'Condition2', 'BldgType',\n",
      "       'HouseStyle', 'OverallQual', 'OverallCond', 'YearBuilt', 'YearRemodAdd',\n",
      "       'RoofStyle', 'RoofMatl', 'Exterior1st', 'Exterior2nd', 'MasVnrType',\n",
      "       'MasVnrArea', 'ExterQual', 'ExterCond', 'Foundation', 'BsmtQual',\n",
      "       'BsmtCond', 'BsmtExposure', 'BsmtFinType1', 'BsmtFinSF1',\n",
      "       'BsmtFinType2', 'BsmtFinSF2', 'BsmtUnfSF', 'TotalBsmtSF', 'Heating',\n",
      "       'HeatingQC', 'CentralAir', 'Electrical', '1stFlrSF', '2ndFlrSF',\n",
      "       'LowQualFinSF', 'GrLivArea', 'BsmtFullBath', 'BsmtHalfBath', 'FullBath',\n",
      "       'HalfBath', 'BedroomAbvGr', 'KitchenAbvGr', 'KitchenQual',\n",
      "       'TotRmsAbvGrd', 'Functional', 'Fireplaces', 'FireplaceQu', 'GarageType',\n",
      "       'GarageYrBlt', 'GarageFinish', 'GarageCars', 'GarageArea', 'GarageQual',\n",
      "       'GarageCond', 'PavedDrive', 'WoodDeckSF', 'OpenPorchSF',\n",
      "       'EnclosedPorch', '3SsnPorch', 'ScreenPorch', 'PoolArea', 'PoolQC',\n",
      "       'Fence', 'MiscFeature', 'MiscVal', 'MoSold', 'YrSold', 'SaleType',\n",
      "       'SaleCondition', 'SalePrice'],\n",
      "      dtype='object')\n"
     ]
    }
   ],
   "source": [
    "print(data.columns)"
   ]
  },
  {
   "cell_type": "code",
   "execution_count": 4,
   "metadata": {
    "_cell_guid": "2d9c5801-1deb-442b-b2f0-348b9aa85d12",
    "_uuid": "092bcd51a3bb5d9732411c93a8d0d92d3e6caa9c",
    "collapsed": false,
    "deletable": true,
    "editable": true
   },
   "outputs": [
    {
     "name": "stdout",
     "output_type": "stream",
     "text": [
      "0    208500\n",
      "1    181500\n",
      "2    223500\n",
      "3    140000\n",
      "4    250000\n",
      "Name: SalePrice, dtype: int64\n"
     ]
    }
   ],
   "source": [
    "data_sale_price = data.SalePrice\n",
    "print(data_sale_price.head())"
   ]
  },
  {
   "cell_type": "code",
   "execution_count": 5,
   "metadata": {
    "_cell_guid": "7306ec8d-50c1-4b0a-a3f0-31587dd8a6f4",
    "_uuid": "deb3ad28706e8766d7bd7423c7a9a8e02389e539",
    "collapsed": true,
    "deletable": true,
    "editable": true
   },
   "outputs": [],
   "source": [
    "columns_of_interest = ['Street', 'HouseStyle']\n",
    "two_columns_of_data = data[columns_of_interest]"
   ]
  },
  {
   "cell_type": "code",
   "execution_count": 6,
   "metadata": {
    "_cell_guid": "822dff60-5597-45d3-ab8f-5f13feec6235",
    "_uuid": "754dc673a3b991dbb0803bd9b0d553b3f24c62e7",
    "collapsed": false,
    "deletable": true,
    "editable": true
   },
   "outputs": [
    {
     "name": "stdout",
     "output_type": "stream",
     "text": [
      "       Street HouseStyle\n",
      "count    1460       1460\n",
      "unique      2          8\n",
      "top      Pave     1Story\n",
      "freq     1454        726\n"
     ]
    }
   ],
   "source": [
    "print(two_columns_of_data.describe())"
   ]
  },
  {
   "cell_type": "code",
   "execution_count": 7,
   "metadata": {
    "_cell_guid": "e009888f-e47d-4bd1-bbfb-db974633e758",
    "_uuid": "37dc21c27608cfb0dd84fb1a44dee7b35e822c7d",
    "collapsed": true,
    "deletable": true,
    "editable": true
   },
   "outputs": [],
   "source": [
    "y = data.SalePrice"
   ]
  },
  {
   "cell_type": "code",
   "execution_count": 8,
   "metadata": {
    "_cell_guid": "5858f352-95a3-4eb7-b488-b8a87916c801",
    "_uuid": "1c50ff8a4bc9a753b6c8c561099f87349cc94bc5",
    "collapsed": true,
    "deletable": true,
    "editable": true
   },
   "outputs": [],
   "source": [
    "predictors = ['LotArea', 'YearBuilt', '1stFlrSF', '2ndFlrSF', 'FullBath', 'BedroomAbvGr', 'TotRmsAbvGrd']"
   ]
  },
  {
   "cell_type": "code",
   "execution_count": 9,
   "metadata": {
    "_cell_guid": "ed6d7450-c857-46cd-a7ea-aa64ff922953",
    "_uuid": "fa20e64a4d3b0c0952031384ef022b94fec26ca0",
    "collapsed": true,
    "deletable": true,
    "editable": true
   },
   "outputs": [],
   "source": [
    "X = data[predictors]"
   ]
  },
  {
   "cell_type": "code",
   "execution_count": 10,
   "metadata": {
    "_cell_guid": "a08cde14-aa25-4f9c-a290-c733ab8e7ad1",
    "_uuid": "c64bba4c312e58cbe2722c144cd0d88d1df78f7b",
    "collapsed": true,
    "deletable": true,
    "editable": true
   },
   "outputs": [],
   "source": [
    "from sklearn.tree import DecisionTreeRegressor\n",
    "\n",
    "data_model = DecisionTreeRegressor()"
   ]
  },
  {
   "cell_type": "code",
   "execution_count": 11,
   "metadata": {
    "_cell_guid": "a6e90f4d-7835-4471-878f-ea4d406bc27d",
    "_uuid": "d4a5c5a847df2400ac9305f10c44720ffaf30ed5",
    "collapsed": false,
    "deletable": true,
    "editable": true
   },
   "outputs": [
    {
     "data": {
      "text/plain": [
       "DecisionTreeRegressor(criterion='mse', max_depth=None, max_features=None,\n",
       "           max_leaf_nodes=None, min_impurity_decrease=0.0,\n",
       "           min_impurity_split=None, min_samples_leaf=1,\n",
       "           min_samples_split=2, min_weight_fraction_leaf=0.0,\n",
       "           presort=False, random_state=None, splitter='best')"
      ]
     },
     "execution_count": 11,
     "metadata": {},
     "output_type": "execute_result"
    }
   ],
   "source": [
    "data_model.fit(X, y)"
   ]
  },
  {
   "cell_type": "code",
   "execution_count": 12,
   "metadata": {
    "_cell_guid": "710b7443-479f-46c9-b789-bf59d062fd48",
    "_uuid": "f32665c0cc5d92f0d4e21c303f46bf7fe121aafb",
    "collapsed": false,
    "deletable": true,
    "editable": true
   },
   "outputs": [
    {
     "name": "stdout",
     "output_type": "stream",
     "text": [
      "   LotArea  YearBuilt  1stFlrSF  2ndFlrSF  FullBath  BedroomAbvGr  \\\n",
      "0     8450       2003       856       854         2             3   \n",
      "1     9600       1976      1262         0         2             3   \n",
      "2    11250       2001       920       866         2             3   \n",
      "3     9550       1915       961       756         1             3   \n",
      "4    14260       2000      1145      1053         2             4   \n",
      "\n",
      "   TotRmsAbvGrd  \n",
      "0             8  \n",
      "1             6  \n",
      "2             6  \n",
      "3             7  \n",
      "4             9  \n",
      "[208500. 181500. 223500. 140000. 250000.]\n"
     ]
    }
   ],
   "source": [
    "print(X.head())\n",
    "print(data_model.predict(X.head()))"
   ]
  },
  {
   "cell_type": "code",
   "execution_count": 13,
   "metadata": {
    "_cell_guid": "fe64d217-2213-46ef-ba59-60eb81031563",
    "_uuid": "cd361ddfca15f074570b297cce09981508a34a9e",
    "collapsed": false,
    "deletable": true,
    "editable": true
   },
   "outputs": [
    {
     "name": "stdout",
     "output_type": "stream",
     "text": [
      "32844.739726027394\n"
     ]
    }
   ],
   "source": [
    "from sklearn.metrics import mean_absolute_error\n",
    "from sklearn.model_selection import train_test_split\n",
    "\n",
    "train_X, val_X, train_y, val_y = train_test_split(X, y, random_state=0)\n",
    "\n",
    "data_model = DecisionTreeRegressor()\n",
    "\n",
    "data_model.fit(train_X, train_y)\n",
    "\n",
    "val_predictions = data_model.predict(val_X)\n",
    "print(mean_absolute_error(val_y, val_predictions))"
   ]
  },
  {
   "cell_type": "code",
   "execution_count": 14,
   "metadata": {
    "_cell_guid": "f46aba4f-cd7b-42de-accd-07f94d951562",
    "_uuid": "6be09ba36307daf0f94cd5e59797befe95fdcd50",
    "collapsed": true,
    "deletable": true,
    "editable": true
   },
   "outputs": [],
   "source": [
    "def get_mae(max_leaf_nodes, predictors_train, predictors_val, targ_train, targ_val):\n",
    "    model = DecisionTreeRegressor(max_leaf_nodes=max_leaf_nodes, random_state=0)\n",
    "    model.fit(predictors_train, targ_train)\n",
    "    preds_val = model.predict(predictors_val)\n",
    "    mae = mean_absolute_error(targ_val, preds_val)\n",
    "    return(mae)"
   ]
  },
  {
   "cell_type": "code",
   "execution_count": 15,
   "metadata": {
    "_cell_guid": "cb921f72-1079-450f-92e7-39a89b68d328",
    "_uuid": "2f889984c5844ece818229fab4e25ace404996ca",
    "collapsed": false,
    "deletable": true,
    "editable": true
   },
   "outputs": [
    {
     "name": "stdout",
     "output_type": "stream",
     "text": [
      "Max leaf nodes: 5 \t\t Mean Absolute Error: 35190\n",
      "Max leaf nodes: 50 \t\t Mean Absolute Error: 27825\n",
      "Max leaf nodes: 500 \t\t Mean Absolute Error: 32662\n",
      "Max leaf nodes: 5000 \t\t Mean Absolute Error: 33382\n"
     ]
    }
   ],
   "source": [
    "for max_leaf_nodes in [5, 50, 500, 5000]:\n",
    "    my_mae = get_mae(max_leaf_nodes, train_X, val_X, train_y, val_y)\n",
    "    print(\"Max leaf nodes: %d \\t\\t Mean Absolute Error: %d\" % (max_leaf_nodes, my_mae))"
   ]
  },
  {
   "cell_type": "code",
   "execution_count": 16,
   "metadata": {
    "_cell_guid": "ac8d6e65-01d1-457d-940b-2d507006679e",
    "_uuid": "781ad4a32c7d6fcc1c7a6d941ffc280a8c0d075e",
    "collapsed": false,
    "deletable": true,
    "editable": true
   },
   "outputs": [
    {
     "name": "stdout",
     "output_type": "stream",
     "text": [
      "24099.617168949775\n"
     ]
    }
   ],
   "source": [
    "from sklearn.ensemble import RandomForestRegressor\n",
    "\n",
    "forest_model = RandomForestRegressor()\n",
    "forest_model.fit(train_X, train_y)\n",
    "data_preds = forest_model.predict(val_X)\n",
    "print(mean_absolute_error(val_y, data_preds))"
   ]
  },
  {
   "cell_type": "code",
   "execution_count": 17,
   "metadata": {
    "_cell_guid": "6ebb7ad9-8a01-439c-8639-cd6e921eba16",
    "_uuid": "610bd4cdfb02ed39b4bd70949efcf301a1413266",
    "collapsed": true,
    "deletable": true,
    "editable": true
   },
   "outputs": [],
   "source": [
    "test = pd.read_csv('../input/test.csv')"
   ]
  },
  {
   "cell_type": "code",
   "execution_count": 18,
   "metadata": {
    "_cell_guid": "87c512c7-f431-443c-b073-797b94b9cceb",
    "_uuid": "31634eba054eadd0e25ecbf946c7a5f375dc4ac9",
    "collapsed": true,
    "deletable": true,
    "editable": true
   },
   "outputs": [],
   "source": [
    "test_X = test[predictors]"
   ]
  },
  {
   "cell_type": "code",
   "execution_count": 19,
   "metadata": {
    "_cell_guid": "c561b6b5-0c75-4b14-8029-9980dd8191a7",
    "_uuid": "5eb67ea4226ee9e7c67a2837867734ca53bc132b",
    "collapsed": false,
    "deletable": true,
    "editable": true
   },
   "outputs": [
    {
     "name": "stdout",
     "output_type": "stream",
     "text": [
      "[135840.  155650.  201750.  ... 159113.2 122375.  220820. ]\n"
     ]
    }
   ],
   "source": [
    "predicted_prices = forest_model.predict(test_X)\n",
    "print(predicted_prices)"
   ]
  },
  {
   "cell_type": "code",
   "execution_count": 20,
   "metadata": {
    "_cell_guid": "5e5ef59c-8450-4ee9-b597-50897b5a431b",
    "_uuid": "e824583d7dd670175ace5416c92a92a13a5ce69c",
    "collapsed": true,
    "deletable": true,
    "editable": true
   },
   "outputs": [],
   "source": [
    "submission = pd.DataFrame({'Id': test.Id, 'SalePrice': predicted_prices})\n",
    "submission.to_csv('submission.csv', index=False)"
   ]
  },
  {
   "cell_type": "code",
   "execution_count": 21,
   "metadata": {
    "_cell_guid": "4b8e42f7-435f-40bc-b72b-50c727edd307",
    "_uuid": "3775a8e6279c2cf937e82458a591ae1156862c54",
    "collapsed": true,
    "deletable": true,
    "editable": true
   },
   "outputs": [],
   "source": [
    "def score_dataset(X_train, X_test, y_train, y_test):\n",
    "    model = RandomForestRegressor()\n",
    "    model.fit(X_train, y_train)\n",
    "    preds = model.predict(X_test)\n",
    "    return mean_absolute_error(y_test, preds)"
   ]
  },
  {
   "cell_type": "code",
   "execution_count": 22,
   "metadata": {
    "_cell_guid": "51fc7516-cfca-4e66-9bbd-de64e1a08bc4",
    "_uuid": "5c2a4c46d63f24ff104eb65cc97a2ba0f5388f90",
    "collapsed": false,
    "deletable": true,
    "editable": true
   },
   "outputs": [
    {
     "data": {
      "text/plain": [
       "dtype('int64')"
      ]
     },
     "execution_count": 22,
     "metadata": {},
     "output_type": "execute_result"
    }
   ],
   "source": [
    "X.dtypes\n",
    "y.dtypes"
   ]
  },
  {
   "cell_type": "code",
   "execution_count": 23,
   "metadata": {
    "_cell_guid": "27b5f0c9-8a32-4443-9298-2f1cbf164ade",
    "_uuid": "1f30d03f2daf826bd320e0b97b42d9460b6094f7",
    "collapsed": false,
    "deletable": true,
    "editable": true
   },
   "outputs": [
    {
     "name": "stdout",
     "output_type": "stream",
     "text": [
      "Mean Absolute Error from Imputation:\n",
      "[[6.6000e+03 1.8920e+03 1.3780e+03 ... 2.0000e+00 4.0000e+00 1.1000e+01]\n",
      " [1.0784e+04 1.9910e+03 8.0200e+02 ... 2.0000e+00 3.0000e+00 7.0000e+00]\n",
      " [1.0246e+04 1.9650e+03 9.6000e+02 ... 0.0000e+00 0.0000e+00 3.0000e+00]\n",
      " ...\n",
      " [8.9300e+03 1.9780e+03 1.3180e+03 ... 2.0000e+00 4.0000e+00 8.0000e+00]\n",
      " [3.1960e+03 2.0030e+03 1.5570e+03 ... 2.0000e+00 2.0000e+00 7.0000e+00]\n",
      " [1.6770e+04 1.9980e+03 1.1950e+03 ... 2.0000e+00 4.0000e+00 7.0000e+00]]\n",
      "25429.63981735159\n"
     ]
    }
   ],
   "source": [
    "from sklearn.preprocessing import Imputer\n",
    "\n",
    "my_imputer = Imputer()\n",
    "imputed_X_train = my_imputer.fit_transform(train_X.select_dtypes(exclude=['object']))\n",
    "imputed_X_val = my_imputer.transform(val_X.select_dtypes(exclude=['object']))\n",
    "print(\"Mean Absolute Error from Imputation:\")\n",
    "print(imputed_X_train)\n",
    "print(score_dataset(imputed_X_train, imputed_X_val, train_y, val_y))"
   ]
  },
  {
   "cell_type": "code",
   "execution_count": 24,
   "metadata": {
    "_cell_guid": "b693bd84-6f0f-44c2-9be5-97b6d0bce7b0",
    "_uuid": "c2b2a931bc3af7435967a78f3e0cc080706efffa",
    "collapsed": true,
    "deletable": true,
    "editable": true
   },
   "outputs": [],
   "source": [
    "imputed_X_train_plus = X.copy()\n",
    "imputed_X_test_plus = test_X.copy()\n",
    "\n",
    "cols_with_missing = (col for col in X.columns \n",
    "                                if X[col].isnull().any())\n",
    "\n",
    "for col in cols_with_missing:\n",
    "    imputed_X_train_plus[col + 'was_missing'] = imputed_X_train_plus[col].isnull()\n",
    "    imputed_X_test_plus[col + 'was_missing'] = imputed_X_test_plus[col].isnull()\n",
    "    \n",
    "# Imputation\n",
    "my_imputer = Imputer()\n",
    "imputed_X_train_plus = my_imputer.fit_transform(imputed_X_train_plus)\n",
    "imputed_X_test_plus = my_imputer.transform(imputed_X_test_plus)\n",
    "\n",
    "#print(\"Mean Absolute Error from Imputation while Track What Was Imputed:\")\n",
    "#print(score(imputed_X_train_plus, imputed_X_test_plus, y, y_test))"
   ]
  },
  {
   "cell_type": "code",
   "execution_count": 25,
   "metadata": {
    "_cell_guid": "4f3d19e4-a658-4d25-b68d-da7806f3b8f5",
    "_uuid": "c8703c8e4b82c59b57e6a3db127490cbcd864a50",
    "collapsed": false,
    "deletable": true,
    "editable": true
   },
   "outputs": [
    {
     "data": {
      "text/plain": [
       "RandomForestRegressor(bootstrap=True, criterion='mse', max_depth=None,\n",
       "           max_features='auto', max_leaf_nodes=None,\n",
       "           min_impurity_decrease=0.0, min_impurity_split=None,\n",
       "           min_samples_leaf=1, min_samples_split=2,\n",
       "           min_weight_fraction_leaf=0.0, n_estimators=10, n_jobs=1,\n",
       "           oob_score=False, random_state=None, verbose=0, warm_start=False)"
      ]
     },
     "execution_count": 25,
     "metadata": {},
     "output_type": "execute_result"
    }
   ],
   "source": [
    "forest_model = RandomForestRegressor()\n",
    "forest_model.fit(imputed_X_train_plus, y)"
   ]
  },
  {
   "cell_type": "code",
   "execution_count": 26,
   "metadata": {
    "_cell_guid": "ccef3af8-7aef-487a-b417-794ac24d762d",
    "_uuid": "e5db32708221d36df9b89020c3b77e471da120eb",
    "collapsed": false,
    "deletable": true,
    "editable": true
   },
   "outputs": [
    {
     "name": "stdout",
     "output_type": "stream",
     "text": [
      "[113970. 155100. 178800. ... 148660. 124800. 222950.]\n"
     ]
    }
   ],
   "source": [
    "predicted_prices = forest_model.predict(imputed_X_test_plus)\n",
    "print(predicted_prices)"
   ]
  },
  {
   "cell_type": "code",
   "execution_count": 27,
   "metadata": {
    "_cell_guid": "ebeeee41-333b-4a2d-a917-0e79b0eb2cf6",
    "_uuid": "57114f806b14d889ca476c13fb85b2205beedcba",
    "collapsed": true,
    "deletable": true,
    "editable": true
   },
   "outputs": [],
   "source": [
    "submission = pd.DataFrame({'Id': test.Id, 'SalePrice': predicted_prices})\n",
    "submission.to_csv('submission.csv', index=False)"
   ]
  },
  {
   "cell_type": "code",
   "execution_count": 35,
   "metadata": {
    "_cell_guid": "998d8862-372e-4d25-9e6a-8133f528d8e8",
    "_uuid": "7c4042f10669ae57d14e56cfc01e05f621b84079",
    "collapsed": true,
    "deletable": true,
    "editable": true
   },
   "outputs": [],
   "source": [
    "data.dropna(axis=0, subset=['SalePrice'], inplace=True)\n",
    "target = data.SalePrice\n",
    "\n",
    "cols_with_missing = [col for col in data.columns\n",
    "                                if data[col].isnull().any()]\n",
    "candidate_train_predictors = data.drop(['Id', 'SalePrice'] + cols_with_missing, axis=1)\n",
    "candidate_test_predictors = test.drop(['Id'] + cols_with_missing, axis=1)"
   ]
  },
  {
   "cell_type": "code",
   "execution_count": 31,
   "metadata": {
    "_cell_guid": "a758b7e9-8f5c-4026-af55-964ae07ee7fa",
    "_uuid": "ef38e41b53d1113eb10605f9e41c555718b6b8c8",
    "collapsed": true,
    "deletable": true,
    "editable": true
   },
   "outputs": [],
   "source": [
    "low_cardinality_cols = [cname for cname in candidate_train_predictors.columns if\n",
    "                               candidate_train_predictors[cname].nunique() < 10 and\n",
    "                               candidate_train_predictors[cname].dtype == 'object']\n",
    "numeric_cols = [cname for cname in candidate_train_predictors.columns if\n",
    "                           candidate_train_predictors[cname].dtype in ['int64', 'float64']]"
   ]
  },
  {
   "cell_type": "code",
   "execution_count": 32,
   "metadata": {
    "_uuid": "c565f9a7368cf0a4ebda9976bb7ac5dd8c41fe14",
    "collapsed": true,
    "deletable": true,
    "editable": true
   },
   "outputs": [],
   "source": [
    "my_cols = low_cardinality_cols + numeric_cols\n",
    "train_predictors = candidate_train_predictors[my_cols]\n",
    "test_predictors = candidate_test_predictors[my_cols]"
   ]
  },
  {
   "cell_type": "code",
   "execution_count": 33,
   "metadata": {
    "_uuid": "c3b12e079902e8be4c5e820993d4b5ab5b585b4e",
    "collapsed": false,
    "deletable": true,
    "editable": true
   },
   "outputs": [
    {
     "data": {
      "text/plain": [
       "MSSubClass       int64\n",
       "BedroomAbvGr     int64\n",
       "GrLivArea        int64\n",
       "MoSold           int64\n",
       "FullBath         int64\n",
       "ExterCond       object\n",
       "LowQualFinSF     int64\n",
       "GarageArea       int64\n",
       "Functional      object\n",
       "CentralAir      object\n",
       "dtype: object"
      ]
     },
     "execution_count": 33,
     "metadata": {},
     "output_type": "execute_result"
    }
   ],
   "source": [
    "train_predictors.dtypes.sample(10)"
   ]
  },
  {
   "cell_type": "code",
   "execution_count": 34,
   "metadata": {
    "_uuid": "f7cd1152828f28888eccd1cdb824ecceb10301fb",
    "collapsed": true,
    "deletable": true,
    "editable": true
   },
   "outputs": [],
   "source": [
    "one_hot_encoded_training_predictors = pd.get_dummies(train_predictors)"
   ]
  },
  {
   "cell_type": "code",
   "execution_count": 36,
   "metadata": {
    "_uuid": "cec01650b9be9affe60de918617e2366d4eb75b6",
    "collapsed": false,
    "deletable": true,
    "editable": true
   },
   "outputs": [
    {
     "name": "stdout",
     "output_type": "stream",
     "text": [
      "Mean Absolute Error when Dropping Categoricals:  18071\n",
      "Mean Absolute Error with One-Hot Encoding:  18138\n"
     ]
    }
   ],
   "source": [
    "from sklearn.model_selection import cross_val_score\n",
    "from sklearn.ensemble import RandomForestRegressor\n",
    "\n",
    "def get_mae(X, y):\n",
    "    return -1 * cross_val_score(RandomForestRegressor(50),\n",
    "                                X, y,\n",
    "                               scoring='neg_mean_absolute_error').mean()\n",
    "\n",
    "predictors_without_categoricals = train_predictors.select_dtypes(exclude=['object'])\n",
    "\n",
    "mae_without_categoricals = get_mae(predictors_without_categoricals, target)\n",
    "\n",
    "mae_one_hot_encoded = get_mae(one_hot_encoded_training_predictors, target)\n",
    "\n",
    "print('Mean Absolute Error when Dropping Categoricals: ', str(int(mae_without_categoricals)))\n",
    "print('Mean Absolute Error with One-Hot Encoding: ', str(int(mae_one_hot_encoded)))"
   ]
  },
  {
   "cell_type": "code",
   "execution_count": null,
   "metadata": {
    "collapsed": true
   },
   "outputs": [],
   "source": [
    "one_hot_encoded_test_predictors = pd.get_dummies(test_predictors)\n",
    "final_train, final_test = one_hot_encoded_training_predictors.align(one_hot_encoded_test_predcitors,\n",
    "                                                                   join='left',\n",
    "                                                                   axis=1)"
   ]
  }
 ],
 "metadata": {
  "kernelspec": {
   "display_name": "Python 3",
   "language": "python",
   "name": "python3"
  },
  "language_info": {
   "codemirror_mode": {
    "name": "ipython",
    "version": 3
   },
   "file_extension": ".py",
   "mimetype": "text/x-python",
   "name": "python",
   "nbconvert_exporter": "python",
   "pygments_lexer": "ipython3",
   "version": "3.5.2"
  }
 },
 "nbformat": 4,
 "nbformat_minor": 1
}
