{
  "cells": [
    {
      "metadata": {
        "_cell_guid": "e81ee64d-e474-4662-9036-ce23df615199",
        "_uuid": "b6269c0e8f417f82daf093dda8fa0da6d2c57d86"
      },
      "cell_type": "markdown",
      "source": "# Introduction\n**This will be your workspace for Kaggle's Machine Learning education track.**\n\nYou will build and continually improve a model to predict housing prices as you work through each tutorial.  Fork this notebook and write your code in it.\n\nThe data from the tutorial, the Melbourne data, is not available in this workspace.  You will need to translate the concepts to work with the data in this notebook, the Iowa data.\n\nCome to the [Learn Discussion](https://www.kaggle.com/learn-forum) forum for any questions or comments. \n\n# Write Your Code Below\n\n"
    },
    {
      "metadata": {
        "_cell_guid": "86b26423-563a-4fa1-a595-89e25ff93089",
        "_uuid": "1c728098629e1301643443b1341556a15c089b2b",
        "trusted": true
      },
      "cell_type": "code",
      "source": "import pandas as pd\n\nmain_file_path = '../input/train.csv'\ndata = pd.read_csv(main_file_path)\nprint('hello world')",
      "execution_count": 1,
      "outputs": [
        {
          "output_type": "stream",
          "text": "hello world\n",
          "name": "stdout"
        }
      ]
    },
    {
      "metadata": {
        "_cell_guid": "bbf145dd-de21-45f3-b4d4-66c773a2c7d1",
        "_uuid": "f46d055482d1040233c9861c7e1dada2e89c91be",
        "trusted": true
      },
      "cell_type": "code",
      "source": "print(data.describe())",
      "execution_count": 2,
      "outputs": [
        {
          "output_type": "stream",
          "text": "                Id   MSSubClass  LotFrontage        LotArea  OverallQual  \\\ncount  1460.000000  1460.000000  1201.000000    1460.000000  1460.000000   \nmean    730.500000    56.897260    70.049958   10516.828082     6.099315   \nstd     421.610009    42.300571    24.284752    9981.264932     1.382997   \nmin       1.000000    20.000000    21.000000    1300.000000     1.000000   \n25%     365.750000    20.000000    59.000000    7553.500000     5.000000   \n50%     730.500000    50.000000    69.000000    9478.500000     6.000000   \n75%    1095.250000    70.000000    80.000000   11601.500000     7.000000   \nmax    1460.000000   190.000000   313.000000  215245.000000    10.000000   \n\n       OverallCond    YearBuilt  YearRemodAdd   MasVnrArea   BsmtFinSF1  \\\ncount  1460.000000  1460.000000   1460.000000  1452.000000  1460.000000   \nmean      5.575342  1971.267808   1984.865753   103.685262   443.639726   \nstd       1.112799    30.202904     20.645407   181.066207   456.098091   \nmin       1.000000  1872.000000   1950.000000     0.000000     0.000000   \n25%       5.000000  1954.000000   1967.000000     0.000000     0.000000   \n50%       5.000000  1973.000000   1994.000000     0.000000   383.500000   \n75%       6.000000  2000.000000   2004.000000   166.000000   712.250000   \nmax       9.000000  2010.000000   2010.000000  1600.000000  5644.000000   \n\n           ...         WoodDeckSF  OpenPorchSF  EnclosedPorch    3SsnPorch  \\\ncount      ...        1460.000000  1460.000000    1460.000000  1460.000000   \nmean       ...          94.244521    46.660274      21.954110     3.409589   \nstd        ...         125.338794    66.256028      61.119149    29.317331   \nmin        ...           0.000000     0.000000       0.000000     0.000000   \n25%        ...           0.000000     0.000000       0.000000     0.000000   \n50%        ...           0.000000    25.000000       0.000000     0.000000   \n75%        ...         168.000000    68.000000       0.000000     0.000000   \nmax        ...         857.000000   547.000000     552.000000   508.000000   \n\n       ScreenPorch     PoolArea       MiscVal       MoSold       YrSold  \\\ncount  1460.000000  1460.000000   1460.000000  1460.000000  1460.000000   \nmean     15.060959     2.758904     43.489041     6.321918  2007.815753   \nstd      55.757415    40.177307    496.123024     2.703626     1.328095   \nmin       0.000000     0.000000      0.000000     1.000000  2006.000000   \n25%       0.000000     0.000000      0.000000     5.000000  2007.000000   \n50%       0.000000     0.000000      0.000000     6.000000  2008.000000   \n75%       0.000000     0.000000      0.000000     8.000000  2009.000000   \nmax     480.000000   738.000000  15500.000000    12.000000  2010.000000   \n\n           SalePrice  \ncount    1460.000000  \nmean   180921.195890  \nstd     79442.502883  \nmin     34900.000000  \n25%    129975.000000  \n50%    163000.000000  \n75%    214000.000000  \nmax    755000.000000  \n\n[8 rows x 38 columns]\n",
          "name": "stdout"
        }
      ]
    },
    {
      "metadata": {
        "_cell_guid": "33dd659c-fa4f-476f-9afe-4481d6075614",
        "_uuid": "6f2bdd908fa97112d9a405ac2d7fe81e5a4c57be",
        "trusted": true
      },
      "cell_type": "code",
      "source": "print(data.columns)",
      "execution_count": 3,
      "outputs": [
        {
          "output_type": "stream",
          "text": "Index(['Id', 'MSSubClass', 'MSZoning', 'LotFrontage', 'LotArea', 'Street',\n       'Alley', 'LotShape', 'LandContour', 'Utilities', 'LotConfig',\n       'LandSlope', 'Neighborhood', 'Condition1', 'Condition2', 'BldgType',\n       'HouseStyle', 'OverallQual', 'OverallCond', 'YearBuilt', 'YearRemodAdd',\n       'RoofStyle', 'RoofMatl', 'Exterior1st', 'Exterior2nd', 'MasVnrType',\n       'MasVnrArea', 'ExterQual', 'ExterCond', 'Foundation', 'BsmtQual',\n       'BsmtCond', 'BsmtExposure', 'BsmtFinType1', 'BsmtFinSF1',\n       'BsmtFinType2', 'BsmtFinSF2', 'BsmtUnfSF', 'TotalBsmtSF', 'Heating',\n       'HeatingQC', 'CentralAir', 'Electrical', '1stFlrSF', '2ndFlrSF',\n       'LowQualFinSF', 'GrLivArea', 'BsmtFullBath', 'BsmtHalfBath', 'FullBath',\n       'HalfBath', 'BedroomAbvGr', 'KitchenAbvGr', 'KitchenQual',\n       'TotRmsAbvGrd', 'Functional', 'Fireplaces', 'FireplaceQu', 'GarageType',\n       'GarageYrBlt', 'GarageFinish', 'GarageCars', 'GarageArea', 'GarageQual',\n       'GarageCond', 'PavedDrive', 'WoodDeckSF', 'OpenPorchSF',\n       'EnclosedPorch', '3SsnPorch', 'ScreenPorch', 'PoolArea', 'PoolQC',\n       'Fence', 'MiscFeature', 'MiscVal', 'MoSold', 'YrSold', 'SaleType',\n       'SaleCondition', 'SalePrice'],\n      dtype='object')\n",
          "name": "stdout"
        }
      ]
    },
    {
      "metadata": {
        "_cell_guid": "2d9c5801-1deb-442b-b2f0-348b9aa85d12",
        "_uuid": "092bcd51a3bb5d9732411c93a8d0d92d3e6caa9c",
        "trusted": true
      },
      "cell_type": "code",
      "source": "data_sale_price = data.SalePrice\nprint(data_sale_price.head())",
      "execution_count": 4,
      "outputs": [
        {
          "output_type": "stream",
          "text": "0    208500\n1    181500\n2    223500\n3    140000\n4    250000\nName: SalePrice, dtype: int64\n",
          "name": "stdout"
        }
      ]
    },
    {
      "metadata": {
        "_cell_guid": "7306ec8d-50c1-4b0a-a3f0-31587dd8a6f4",
        "collapsed": true,
        "_uuid": "deb3ad28706e8766d7bd7423c7a9a8e02389e539",
        "trusted": true
      },
      "cell_type": "code",
      "source": "columns_of_interest = ['Street', 'HouseStyle']\ntwo_columns_of_data = data[columns_of_interest]",
      "execution_count": 5,
      "outputs": []
    },
    {
      "metadata": {
        "_cell_guid": "822dff60-5597-45d3-ab8f-5f13feec6235",
        "_uuid": "754dc673a3b991dbb0803bd9b0d553b3f24c62e7",
        "trusted": true
      },
      "cell_type": "code",
      "source": "print(two_columns_of_data.describe())",
      "execution_count": 6,
      "outputs": [
        {
          "output_type": "stream",
          "text": "       Street HouseStyle\ncount    1460       1460\nunique      2          8\ntop      Pave     1Story\nfreq     1454        726\n",
          "name": "stdout"
        }
      ]
    },
    {
      "metadata": {
        "_cell_guid": "e009888f-e47d-4bd1-bbfb-db974633e758",
        "collapsed": true,
        "_uuid": "37dc21c27608cfb0dd84fb1a44dee7b35e822c7d",
        "trusted": true
      },
      "cell_type": "code",
      "source": "y = data.SalePrice",
      "execution_count": 7,
      "outputs": []
    },
    {
      "metadata": {
        "_cell_guid": "5858f352-95a3-4eb7-b488-b8a87916c801",
        "collapsed": true,
        "_uuid": "1c50ff8a4bc9a753b6c8c561099f87349cc94bc5",
        "trusted": true
      },
      "cell_type": "code",
      "source": "predictors = ['LotArea', 'YearBuilt', '1stFlrSF', '2ndFlrSF', 'FullBath', 'BedroomAbvGr', 'TotRmsAbvGrd']",
      "execution_count": 8,
      "outputs": []
    },
    {
      "metadata": {
        "_cell_guid": "ed6d7450-c857-46cd-a7ea-aa64ff922953",
        "collapsed": true,
        "_uuid": "fa20e64a4d3b0c0952031384ef022b94fec26ca0",
        "trusted": true
      },
      "cell_type": "code",
      "source": "X = data[predictors]",
      "execution_count": 9,
      "outputs": []
    },
    {
      "metadata": {
        "_cell_guid": "a08cde14-aa25-4f9c-a290-c733ab8e7ad1",
        "collapsed": true,
        "_uuid": "c64bba4c312e58cbe2722c144cd0d88d1df78f7b",
        "trusted": true
      },
      "cell_type": "code",
      "source": "from sklearn.tree import DecisionTreeRegressor\n\ndata_model = DecisionTreeRegressor()",
      "execution_count": 10,
      "outputs": []
    },
    {
      "metadata": {
        "_cell_guid": "a6e90f4d-7835-4471-878f-ea4d406bc27d",
        "_uuid": "d4a5c5a847df2400ac9305f10c44720ffaf30ed5",
        "trusted": true
      },
      "cell_type": "code",
      "source": "data_model.fit(X, y)",
      "execution_count": 11,
      "outputs": [
        {
          "output_type": "execute_result",
          "execution_count": 11,
          "data": {
            "text/plain": "DecisionTreeRegressor(criterion='mse', max_depth=None, max_features=None,\n           max_leaf_nodes=None, min_impurity_decrease=0.0,\n           min_impurity_split=None, min_samples_leaf=1,\n           min_samples_split=2, min_weight_fraction_leaf=0.0,\n           presort=False, random_state=None, splitter='best')"
          },
          "metadata": {}
        }
      ]
    },
    {
      "metadata": {
        "_cell_guid": "710b7443-479f-46c9-b789-bf59d062fd48",
        "_uuid": "f32665c0cc5d92f0d4e21c303f46bf7fe121aafb",
        "trusted": true
      },
      "cell_type": "code",
      "source": "print(X.head())\nprint(data_model.predict(X.head()))",
      "execution_count": 12,
      "outputs": [
        {
          "output_type": "stream",
          "text": "   LotArea  YearBuilt  1stFlrSF  2ndFlrSF  FullBath  BedroomAbvGr  \\\n0     8450       2003       856       854         2             3   \n1     9600       1976      1262         0         2             3   \n2    11250       2001       920       866         2             3   \n3     9550       1915       961       756         1             3   \n4    14260       2000      1145      1053         2             4   \n\n   TotRmsAbvGrd  \n0             8  \n1             6  \n2             6  \n3             7  \n4             9  \n[208500. 181500. 223500. 140000. 250000.]\n",
          "name": "stdout"
        }
      ]
    },
    {
      "metadata": {
        "_cell_guid": "fe64d217-2213-46ef-ba59-60eb81031563",
        "_uuid": "cd361ddfca15f074570b297cce09981508a34a9e",
        "trusted": true
      },
      "cell_type": "code",
      "source": "from sklearn.metrics import mean_absolute_error\nfrom sklearn.model_selection import train_test_split\n\ntrain_X, val_X, train_y, val_y = train_test_split(X, y, random_state=0)\n\ndata_model = DecisionTreeRegressor()\n\ndata_model.fit(train_X, train_y)\n\nval_predictions = data_model.predict(val_X)\nprint(mean_absolute_error(val_y, val_predictions))",
      "execution_count": 13,
      "outputs": [
        {
          "output_type": "stream",
          "text": "32347.923287671234\n",
          "name": "stdout"
        }
      ]
    },
    {
      "metadata": {
        "_cell_guid": "f46aba4f-cd7b-42de-accd-07f94d951562",
        "collapsed": true,
        "_uuid": "6be09ba36307daf0f94cd5e59797befe95fdcd50",
        "trusted": true
      },
      "cell_type": "code",
      "source": "def get_mae(max_leaf_nodes, predictors_train, predictors_val, targ_train, targ_val):\n    model = DecisionTreeRegressor(max_leaf_nodes=max_leaf_nodes, random_state=0)\n    model.fit(predictors_train, targ_train)\n    preds_val = model.predict(predictors_val)\n    mae = mean_absolute_error(targ_val, preds_val)\n    return(mae)",
      "execution_count": 14,
      "outputs": []
    },
    {
      "metadata": {
        "_cell_guid": "cb921f72-1079-450f-92e7-39a89b68d328",
        "_uuid": "2f889984c5844ece818229fab4e25ace404996ca",
        "trusted": true
      },
      "cell_type": "code",
      "source": "for max_leaf_nodes in [5, 50, 500, 5000]:\n    my_mae = get_mae(max_leaf_nodes, train_X, val_X, train_y, val_y)\n    print(\"Max leaf nodes: %d \\t\\t Mean Absolute Error: %d\" % (max_leaf_nodes, my_mae))",
      "execution_count": 15,
      "outputs": [
        {
          "output_type": "stream",
          "text": "Max leaf nodes: 5 \t\t Mean Absolute Error: 35190\nMax leaf nodes: 50 \t\t Mean Absolute Error: 27825\nMax leaf nodes: 500 \t\t Mean Absolute Error: 32662\nMax leaf nodes: 5000 \t\t Mean Absolute Error: 33382\n",
          "name": "stdout"
        }
      ]
    },
    {
      "metadata": {
        "_cell_guid": "ac8d6e65-01d1-457d-940b-2d507006679e",
        "_uuid": "781ad4a32c7d6fcc1c7a6d941ffc280a8c0d075e",
        "trusted": true
      },
      "cell_type": "code",
      "source": "from sklearn.ensemble import RandomForestRegressor\n\nforest_model = RandomForestRegressor()\nforest_model.fit(train_X, train_y)\ndata_preds = forest_model.predict(val_X)\nprint(mean_absolute_error(val_y, data_preds))",
      "execution_count": 16,
      "outputs": [
        {
          "output_type": "stream",
          "text": "23741.50427919113\n",
          "name": "stdout"
        }
      ]
    },
    {
      "metadata": {
        "_cell_guid": "6ebb7ad9-8a01-439c-8639-cd6e921eba16",
        "collapsed": true,
        "_uuid": "610bd4cdfb02ed39b4bd70949efcf301a1413266",
        "trusted": true
      },
      "cell_type": "code",
      "source": "test = pd.read_csv('../input/test.csv')",
      "execution_count": 17,
      "outputs": []
    },
    {
      "metadata": {
        "_cell_guid": "87c512c7-f431-443c-b073-797b94b9cceb",
        "collapsed": true,
        "_uuid": "31634eba054eadd0e25ecbf946c7a5f375dc4ac9",
        "trusted": true
      },
      "cell_type": "code",
      "source": "test_X = test[predictors]",
      "execution_count": 18,
      "outputs": []
    },
    {
      "metadata": {
        "_cell_guid": "c561b6b5-0c75-4b14-8029-9980dd8191a7",
        "_uuid": "5eb67ea4226ee9e7c67a2837867734ca53bc132b",
        "trusted": true
      },
      "cell_type": "code",
      "source": "predicted_prices = forest_model.predict(test_X)\nprint(predicted_prices)",
      "execution_count": 19,
      "outputs": [
        {
          "output_type": "stream",
          "text": "[124600. 159490. 190200. ... 141830. 130150. 225680.]\n",
          "name": "stdout"
        }
      ]
    },
    {
      "metadata": {
        "_cell_guid": "5e5ef59c-8450-4ee9-b597-50897b5a431b",
        "collapsed": true,
        "_uuid": "e824583d7dd670175ace5416c92a92a13a5ce69c",
        "trusted": true
      },
      "cell_type": "code",
      "source": "submission = pd.DataFrame({'Id': test.Id, 'SalePrice': predicted_prices})\nsubmission.to_csv('submission.csv', index=False)",
      "execution_count": 20,
      "outputs": []
    },
    {
      "metadata": {
        "_cell_guid": "4b8e42f7-435f-40bc-b72b-50c727edd307",
        "collapsed": true,
        "_uuid": "3775a8e6279c2cf937e82458a591ae1156862c54",
        "trusted": true
      },
      "cell_type": "code",
      "source": "def score_dataset(X_train, X_test, y_train, y_test):\n    model = RandomForestRegressor()\n    model.fit(X_train, y_train)\n    preds = model.predict(X_test)\n    return mean_absolute_error(y_test, preds)",
      "execution_count": 21,
      "outputs": []
    },
    {
      "metadata": {
        "_cell_guid": "51fc7516-cfca-4e66-9bbd-de64e1a08bc4",
        "_uuid": "5c2a4c46d63f24ff104eb65cc97a2ba0f5388f90",
        "trusted": true
      },
      "cell_type": "code",
      "source": "X.dtypes\ny.dtypes",
      "execution_count": 22,
      "outputs": [
        {
          "output_type": "execute_result",
          "execution_count": 22,
          "data": {
            "text/plain": "dtype('int64')"
          },
          "metadata": {}
        }
      ]
    },
    {
      "metadata": {
        "_cell_guid": "27b5f0c9-8a32-4443-9298-2f1cbf164ade",
        "_uuid": "1f30d03f2daf826bd320e0b97b42d9460b6094f7",
        "trusted": true
      },
      "cell_type": "code",
      "source": "from sklearn.preprocessing import Imputer\n\nmy_imputer = Imputer()\nimputed_X_train = my_imputer.fit_transform(train_X.select_dtypes(exclude=['object']))\nimputed_X_val = my_imputer.transform(val_X.select_dtypes(exclude=['object']))\nprint(\"Mean Absolute Error from Imputation:\")\nprint(imputed_X_train)\nprint(score_dataset(imputed_X_train, imputed_X_val, train_y, val_y))",
      "execution_count": 23,
      "outputs": [
        {
          "output_type": "stream",
          "text": "Mean Absolute Error from Imputation:\n[[6.6000e+03 1.8920e+03 1.3780e+03 ... 2.0000e+00 4.0000e+00 1.1000e+01]\n [1.0784e+04 1.9910e+03 8.0200e+02 ... 2.0000e+00 3.0000e+00 7.0000e+00]\n [1.0246e+04 1.9650e+03 9.6000e+02 ... 0.0000e+00 0.0000e+00 3.0000e+00]\n ...\n [8.9300e+03 1.9780e+03 1.3180e+03 ... 2.0000e+00 4.0000e+00 8.0000e+00]\n [3.1960e+03 2.0030e+03 1.5570e+03 ... 2.0000e+00 2.0000e+00 7.0000e+00]\n [1.6770e+04 1.9980e+03 1.1950e+03 ... 2.0000e+00 4.0000e+00 7.0000e+00]]\n24743.215205479453\n",
          "name": "stdout"
        }
      ]
    },
    {
      "metadata": {
        "_cell_guid": "b693bd84-6f0f-44c2-9be5-97b6d0bce7b0",
        "collapsed": true,
        "_uuid": "c2b2a931bc3af7435967a78f3e0cc080706efffa",
        "trusted": true
      },
      "cell_type": "code",
      "source": "imputed_X_train_plus = X.copy()\nimputed_X_test_plus = test_X.copy()\n\ncols_with_missing = (col for col in X.columns \n                                if X[col].isnull().any())\n\nfor col in cols_with_missing:\n    imputed_X_train_plus[col + 'was_missing'] = imputed_X_train_plus[col].isnull()\n    imputed_X_test_plus[col + 'was_missing'] = imputed_X_test_plus[col].isnull()\n    \n# Imputation\nmy_imputer = Imputer()\nimputed_X_train_plus = my_imputer.fit_transform(imputed_X_train_plus)\nimputed_X_test_plus = my_imputer.transform(imputed_X_test_plus)\n\n#print(\"Mean Absolute Error from Imputation while Track What Was Imputed:\")\n#print(score(imputed_X_train_plus, imputed_X_test_plus, y, y_test))",
      "execution_count": 24,
      "outputs": []
    },
    {
      "metadata": {
        "_cell_guid": "4f3d19e4-a658-4d25-b68d-da7806f3b8f5",
        "_uuid": "c8703c8e4b82c59b57e6a3db127490cbcd864a50",
        "trusted": true
      },
      "cell_type": "code",
      "source": "forest_model = RandomForestRegressor()\nforest_model.fit(imputed_X_train_plus, y)",
      "execution_count": 25,
      "outputs": [
        {
          "output_type": "execute_result",
          "execution_count": 25,
          "data": {
            "text/plain": "RandomForestRegressor(bootstrap=True, criterion='mse', max_depth=None,\n           max_features='auto', max_leaf_nodes=None,\n           min_impurity_decrease=0.0, min_impurity_split=None,\n           min_samples_leaf=1, min_samples_split=2,\n           min_weight_fraction_leaf=0.0, n_estimators=10, n_jobs=1,\n           oob_score=False, random_state=None, verbose=0, warm_start=False)"
          },
          "metadata": {}
        }
      ]
    },
    {
      "metadata": {
        "_cell_guid": "ccef3af8-7aef-487a-b417-794ac24d762d",
        "_uuid": "e5db32708221d36df9b89020c3b77e471da120eb",
        "trusted": true
      },
      "cell_type": "code",
      "source": "predicted_prices = forest_model.predict(imputed_X_test_plus)\nprint(predicted_prices)",
      "execution_count": 26,
      "outputs": [
        {
          "output_type": "stream",
          "text": "[124525. 164500. 195500. ... 167735. 114500. 226950.]\n",
          "name": "stdout"
        }
      ]
    },
    {
      "metadata": {
        "_cell_guid": "ebeeee41-333b-4a2d-a917-0e79b0eb2cf6",
        "collapsed": true,
        "_uuid": "57114f806b14d889ca476c13fb85b2205beedcba",
        "trusted": true
      },
      "cell_type": "code",
      "source": "submission = pd.DataFrame({'Id': test.Id, 'SalePrice': predicted_prices})\nsubmission.to_csv('submission.csv', index=False)",
      "execution_count": 27,
      "outputs": []
    },
    {
      "metadata": {
        "_cell_guid": "998d8862-372e-4d25-9e6a-8133f528d8e8",
        "collapsed": true,
        "_uuid": "7c4042f10669ae57d14e56cfc01e05f621b84079",
        "trusted": true
      },
      "cell_type": "code",
      "source": "data.dropna(axis=0, subset=['SalePrice'], inplace=True)\ntarget = data.SalePrice\n\ncols_with_missing = [col for col in data.columns\n                                if data[col].isnull().any()]\ncandidate_train_predictors = data.drop(['Id', 'SalePrice'] + cols_with_missing, axis=1)\ncandidate_test_predictors = test.drop(['Id'] + cols_with_missing, axis=1)",
      "execution_count": 28,
      "outputs": []
    },
    {
      "metadata": {
        "_cell_guid": "a758b7e9-8f5c-4026-af55-964ae07ee7fa",
        "collapsed": true,
        "_uuid": "ef38e41b53d1113eb10605f9e41c555718b6b8c8",
        "trusted": true
      },
      "cell_type": "code",
      "source": "low_cardinality_cols = [cname for cname in candidate_train_predictors.columns if\n                               candidate_train_predictors[cname].nunique() < 10 and\n                               candidate_train_predictors[cname].dtype == 'object']\nnumeric_cols = [cname for cname in candidate_train_predictors.columns if\n                           candidate_train_predictors[cname].dtype in ['int64', 'float64']]",
      "execution_count": 29,
      "outputs": []
    },
    {
      "metadata": {
        "_uuid": "70c5aa7a6739f0f8c74b3f39f230e096a4e7c2a7",
        "collapsed": true,
        "_cell_guid": "5645ea96-5367-439e-89e8-15c1e70b05c8",
        "trusted": true
      },
      "cell_type": "code",
      "source": "my_cols = low_cardinality_cols + numeric_cols\ntrain_predictors = candidate_train_predictors[my_cols]\ntest_predictors = candidate_test_predictors[my_cols]",
      "execution_count": 30,
      "outputs": []
    },
    {
      "metadata": {
        "_uuid": "a3e6ca5d6d6a7b55cb793cd6e73e186a09b39b2e",
        "_cell_guid": "87e3156c-03cb-47b0-89f8-9bbb2a7d68c1",
        "trusted": true
      },
      "cell_type": "code",
      "source": "train_predictors.dtypes.sample(10)",
      "execution_count": 31,
      "outputs": [
        {
          "output_type": "execute_result",
          "execution_count": 31,
          "data": {
            "text/plain": "Heating         object\nBsmtFinSF1       int64\nFireplaces       int64\nLowQualFinSF     int64\nTotalBsmtSF      int64\nYearRemodAdd     int64\nRoofMatl        object\nKitchenQual     object\nSaleType        object\nYearBuilt        int64\ndtype: object"
          },
          "metadata": {}
        }
      ]
    },
    {
      "metadata": {
        "_uuid": "845b73f824a6bb3cb20afbe158d418475dc63bcc",
        "collapsed": true,
        "_cell_guid": "f4894c84-52ef-4fbd-91d6-224b56b7d408",
        "trusted": true
      },
      "cell_type": "code",
      "source": "one_hot_encoded_training_predictors = pd.get_dummies(train_predictors)",
      "execution_count": 32,
      "outputs": []
    },
    {
      "metadata": {
        "_uuid": "88df5964ec583a21be9e08a6ccbc336fb2df58c1",
        "_cell_guid": "695fef66-b503-4edf-96d8-1b3ea589f86c",
        "trusted": true
      },
      "cell_type": "code",
      "source": "from sklearn.model_selection import cross_val_score\nfrom sklearn.ensemble import RandomForestRegressor\n\ndef get_mae(X, y):\n    return -1 * cross_val_score(RandomForestRegressor(50),\n                                X, y,\n                               scoring='neg_mean_absolute_error').mean()\n\npredictors_without_categoricals = train_predictors.select_dtypes(exclude=['object'])\n\nmae_without_categoricals = get_mae(predictors_without_categoricals, target)\n\nmae_one_hot_encoded = get_mae(one_hot_encoded_training_predictors, target)\n\nprint('Mean Absolute Error when Dropping Categoricals: ', str(int(mae_without_categoricals)))\nprint('Mean Absolute Error with One-Hot Encoding: ', str(int(mae_one_hot_encoded)))",
      "execution_count": 33,
      "outputs": [
        {
          "output_type": "stream",
          "text": "Mean Absolute Error when Dropping Categoricals:  18378\nMean Absolute Error with One-Hot Encoding:  18070\n",
          "name": "stdout"
        }
      ]
    },
    {
      "metadata": {
        "trusted": true,
        "collapsed": true,
        "_uuid": "d77c2c96d20d6910c1481dbfc2fd67a97416c604"
      },
      "cell_type": "code",
      "source": "import pandas as pd\nfrom sklearn.model_selection import train_test_split\nfrom sklearn.preprocessing import Imputer\n\ndata = pd.read_csv('../input/train.csv')\ndata.dropna(axis=0, subset=['SalePrice'], inplace=True)\ny = data.SalePrice\nX = data.drop(['SalePrice'], axis=1).select_dtypes(exclude=['object'])\ntrain_X, test_X, train_y, test_y = train_test_split(X.as_matrix(), y.as_matrix(), test_size=0.25)\n\nmy_imputer = Imputer()\ntrain_X = my_imputer.fit_transform(train_X)\ntest_X = my_imputer.transform(test_X)",
      "execution_count": 34,
      "outputs": []
    },
    {
      "metadata": {
        "trusted": true,
        "_uuid": "f1dbab75377ac7355c64b9c56e32e14d66b6fd65"
      },
      "cell_type": "code",
      "source": "from xgboost import XGBRegressor\n\nmy_model = XGBRegressor()\nmy_model.fit(train_X, train_y, verbose=False)",
      "execution_count": 35,
      "outputs": [
        {
          "output_type": "execute_result",
          "execution_count": 35,
          "data": {
            "text/plain": "XGBRegressor(base_score=0.5, booster='gbtree', colsample_bylevel=1,\n       colsample_bytree=1, gamma=0, learning_rate=0.1, max_delta_step=0,\n       max_depth=3, min_child_weight=1, missing=None, n_estimators=100,\n       n_jobs=1, nthread=None, objective='reg:linear', random_state=0,\n       reg_alpha=0, reg_lambda=1, scale_pos_weight=1, seed=None,\n       silent=True, subsample=1)"
          },
          "metadata": {}
        }
      ]
    },
    {
      "metadata": {
        "trusted": true,
        "_uuid": "dd2fab6035e502df30483d126a435bba0c8b3a04"
      },
      "cell_type": "code",
      "source": "predictions = my_model.predict(test_X)\n\nfrom sklearn.metrics import mean_absolute_error\nprint(\"Mean Absolute Error: \" + str(mean_absolute_error(predictions, test_y)))",
      "execution_count": 36,
      "outputs": [
        {
          "output_type": "stream",
          "text": "Mean Absolute Error: 16233.814169520549\n",
          "name": "stdout"
        }
      ]
    }
  ],
  "metadata": {
    "language_info": {
      "name": "python",
      "version": "3.6.4",
      "mimetype": "text/x-python",
      "codemirror_mode": {
        "name": "ipython",
        "version": 3
      },
      "pygments_lexer": "ipython3",
      "nbconvert_exporter": "python",
      "file_extension": ".py"
    },
    "kernelspec": {
      "display_name": "Python 3",
      "language": "python",
      "name": "python3"
    }
  },
  "nbformat": 4,
  "nbformat_minor": 1
}